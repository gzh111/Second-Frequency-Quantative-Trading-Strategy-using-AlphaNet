{
 "cells": [
  {
   "cell_type": "markdown",
   "metadata": {
    "pycharm": {
     "name": "#%% md\n"
    }
   },
   "source": [
    "# Build datasets\n",
    "\n",
    "Transfer stock data to dataset for AlphaNet."
   ]
  },
  {
   "cell_type": "code",
   "execution_count": 6,
   "metadata": {
    "pycharm": {
     "name": "#%%\n"
    }
   },
   "outputs": [],
   "source": [
    "import os\n",
    "import numpy as np\n",
    "import pandas as pd\n",
    "import h5py\n",
    "\n",
    "DATA_DIR = \"test\"\n",
    "\n",
    "SAVE_DIR = \"test_60\"\n",
    "INPUT = 60  # minutes as predictor\n",
    "#SAVE_DIR = \"test_30\"\n",
    "#INPUT = 30  # minutes as predictor\n",
    "#SAVE_DIR = \"test_120\"\n",
    "#INPUT = 120  # minutes as predictor\n",
    "OUTPUT = 1  # minutes as target\n",
    "SHUFFLE = False  # shuffle dataset or not\n",
    "SEED = 123       # shuffle seed"
   ]
  },
  {
   "cell_type": "code",
   "execution_count": 7,
   "metadata": {
    "pycharm": {
     "name": "#%%\n"
    }
   },
   "outputs": [],
   "source": [
    "def load_data(dir):\n",
    "    r\"\"\"\n",
    "    Load stock data from files in `dir`.\n",
    "\n",
    "    Parameters\n",
    "    ----------\n",
    "    dir: str\n",
    "        Fold contains stock data. Each stock is in a csv file.\n",
    "    \n",
    "    Returns\n",
    "    -------\n",
    "    value: generator\n",
    "        A generator with elements like (name, data, number_of_null)\n",
    "    \"\"\"\n",
    "    for file in os.listdir(dir):\n",
    "        if file.endswith(\"csv\"):\n",
    "            dt = pd.read_csv(f\"{dir}/{file}\").drop(columns=[\"Datetime\"])\n",
    "            # dt[\"return\"] = -np.log(dt[\"return\"])\n",
    "            # dt[\"free_turn\"] = -np.log(dt[\"free_turn\"])\n",
    "            dt = dt.transpose()\n",
    "            name = file.split('.')[0]\n",
    "            null = dt.isnull().values.sum()\n",
    "            yield (name, dt, null)\n",
    "\n",
    "def preprocess(dt, shuffle=False, seed=None):\n",
    "    r\"\"\"\n",
    "    Preprocessing for given data.\n",
    "\n",
    "    Parameters\n",
    "    ----------\n",
    "    dt: pd.DataFrame\n",
    "        Raw data.\n",
    "    shuffle: bool, optional\n",
    "        Shuffle data or not.\n",
    "    seed: shuffle seed, optional\n",
    "    \n",
    "    Returns\n",
    "    -------\n",
    "    X: np.ndarray\n",
    "        Dataset X for fitting.\n",
    "    y: np.ndarray\n",
    "        Dataset y for fitting.\n",
    "    \"\"\"\n",
    "    X = []\n",
    "    y = []\n",
    "    n = dt.shape[1] - INPUT - OUTPUT\n",
    "    for i in range(n):\n",
    "        X_new = dt.iloc[:, i:i+INPUT] \\\n",
    "            .to_numpy()[np.newaxis, :]\n",
    "        y_new = dt.loc[\"return\"][i+INPUT:i+INPUT+OUTPUT] \\\n",
    "            .to_numpy()[np.newaxis, :]\n",
    "        X.append(X_new)\n",
    "        y.append(y_new)\n",
    "\n",
    "    X = np.concatenate(X, axis=0)\n",
    "    y = np.concatenate(y, axis=0)\n",
    "    if shuffle:\n",
    "        rng = np.random.default_rng(seed=seed)\n",
    "        rng.shuffle(X)\n",
    "        rng.shuffle(y)\n",
    "    return X, y\n",
    "\n",
    "def save_data(dir, name, X, y):\n",
    "    r\"\"\"\n",
    "    Save dataset as HDF5 file.\n",
    "    \"\"\"\n",
    "    with h5py.File(f'{dir}/{name}.hdf5', 'w') as f:\n",
    "        f.create_dataset(\"X\", data=X, chunks=True)\n",
    "        f.create_dataset(\"y\", data=y, chunks=True)\n",
    "    print(f\"Dataset {name} Saved.\")"
   ]
  },
  {
   "cell_type": "code",
   "execution_count": 8,
   "metadata": {
    "pycharm": {
     "name": "#%%\n"
    }
   },
   "outputs": [
    {
     "name": "stdout",
     "output_type": "stream",
     "text": [
      "(8099, 7, 60) (8099, 1)\n",
      "Dataset AR_test Saved.\n",
      "(7628, 7, 60) (7628, 1)\n",
      "Dataset BAH_test Saved.\n",
      "(8080, 7, 60) (8080, 1)\n",
      "Dataset FTI_test Saved.\n",
      "(5190, 7, 60) (5190, 1)\n",
      "Dataset HII_test Saved.\n",
      "(7783, 7, 60) (7783, 1)\n",
      "Dataset LMT_test Saved.\n",
      "(4815, 7, 60) (4815, 1)\n",
      "Dataset MLI_test Saved.\n",
      "(7244, 7, 60) (7244, 1)\n",
      "Dataset NFE_test Saved.\n",
      "(7524, 7, 60) (7524, 1)\n",
      "Dataset NOC_test Saved.\n",
      "(8111, 7, 60) (8111, 1)\n",
      "Dataset PBR_test Saved.\n",
      "(8021, 7, 60) (8021, 1)\n",
      "Dataset STLD_test Saved.\n"
     ]
    }
   ],
   "source": [
    "for name, dt, null in load_data(DATA_DIR):\n",
    "    if null > 0:\n",
    "        print(f\"Data {name} has NULL values. Pass.\")\n",
    "    else:\n",
    "        X, y = preprocess(dt, shuffle=SHUFFLE, seed=SEED)\n",
    "        print(X.shape, y.shape)\n",
    "        save_data(SAVE_DIR, name, X, y)"
   ]
  }
 ],
 "metadata": {
  "kernelspec": {
   "display_name": "Python 3.9.12 ('tf')",
   "language": "python",
   "name": "python3"
  },
  "language_info": {
   "codemirror_mode": {
    "name": "ipython",
    "version": 3
   },
   "file_extension": ".py",
   "mimetype": "text/x-python",
   "name": "python",
   "nbconvert_exporter": "python",
   "pygments_lexer": "ipython3",
   "version": "3.9.12"
  },
  "orig_nbformat": 4,
  "vscode": {
   "interpreter": {
    "hash": "99ea4bddf300909f6d049ff7715ecae0b1516d9d48b79ec655d91803e59750be"
   }
  }
 },
 "nbformat": 4,
 "nbformat_minor": 2
}