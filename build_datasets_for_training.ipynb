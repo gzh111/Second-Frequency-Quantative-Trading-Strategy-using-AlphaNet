{
 "cells": [
  {
   "cell_type": "markdown",
   "metadata": {
    "pycharm": {
     "name": "#%% md\n"
    }
   },
   "source": [
    "# Build datasets\n",
    "\n",
    "Transfer stock data to dataset for AlphaNet."
   ]
  },
  {
   "cell_type": "code",
   "execution_count": 7,
   "metadata": {
    "pycharm": {
     "name": "#%%\n"
    }
   },
   "outputs": [],
   "source": [
    "import os\n",
    "import numpy as np\n",
    "import pandas as pd\n",
    "import h5py\n",
    "\n",
    "#INPUT = 120      # minutes as predictor\n",
    "#INPUT = 60      # minutes as predictor\n",
    "INPUT = 30      # minutes as predictor\n",
    "OUTPUT = 1       # minutes as target\n",
    "SHUFFLE = False  # shuffle dataset or not\n",
    "SEED = 123       # shuffle seed\n",
    "\n",
    "DATA_DIR = \"train_valid\"\n",
    "TRAIN_DIR = \"train_\" + str(INPUT)\n",
    "VALID_DIR = \"valid_\" + str(INPUT)"
   ]
  },
  {
   "cell_type": "code",
   "execution_count": 8,
   "metadata": {
    "pycharm": {
     "name": "#%%\n"
    }
   },
   "outputs": [],
   "source": [
    "def load_data(dir):\n",
    "    r\"\"\"\n",
    "    Load stock data from files in `dir`.\n",
    "\n",
    "    Parameters\n",
    "    ----------\n",
    "    dir: str\n",
    "        Fold contains stock data. Each stock is in a csv file.\n",
    "    \n",
    "    Returns\n",
    "    -------\n",
    "    value: generator\n",
    "        A generator with elements like (name, data, number_of_null)\n",
    "    \"\"\"\n",
    "    for file in os.listdir(dir):\n",
    "        if file.endswith(\"csv\"):\n",
    "            dt = pd.read_csv(f\"{dir}/{file}\", index_col=0) \\\n",
    "                .drop(columns=[\"timestamp\"])\n",
    "            dt = dt.transpose()\n",
    "            name = file.split('.')[0]\n",
    "            null = dt.isnull().values.sum()\n",
    "            yield (name, dt, null)\n",
    "\n",
    "def preprocess(dt, shuffle=False, seed=None):\n",
    "    r\"\"\"\n",
    "    Preprocessing for given data.\n",
    "\n",
    "    Parameters\n",
    "    ----------\n",
    "    dt: pd.DataFrame\n",
    "        Raw data.\n",
    "    shuffle: bool, optional\n",
    "        Shuffle data or not.\n",
    "    seed: shuffle seed, optional\n",
    "\n",
    "    Returns\n",
    "    -------\n",
    "    X: np.ndarray\n",
    "        Dataset X for fitting.\n",
    "    y: np.ndarray\n",
    "        Dataset y for fitting.\n",
    "    \"\"\"\n",
    "    X = []\n",
    "    y = []\n",
    "    n = dt.shape[1] - INPUT - OUTPUT\n",
    "    for i in range(n):\n",
    "        X_new = dt.iloc[:, i:i+INPUT] \\\n",
    "            .to_numpy()[np.newaxis, :]\n",
    "        y_new = dt.loc[\"return\"].iloc[i+INPUT:i+INPUT+OUTPUT] \\\n",
    "            .to_numpy()[np.newaxis, :]\n",
    "\n",
    "        X.append(X_new)\n",
    "        y.append(y_new)\n",
    "    X = np.concatenate(X, axis=0)\n",
    "    y = np.concatenate(y, axis=0)\n",
    "    if shuffle:\n",
    "        rng = np.random.default_rng(seed=seed)\n",
    "        rng.shuffle(X)\n",
    "        rng.shuffle(y)\n",
    "    return X, y\n",
    "\n",
    "def save_data(dir, name, X, y):\n",
    "    r\"\"\"\n",
    "    Save dataset as HDF5 file.\n",
    "    \"\"\"\n",
    "    if not os.path.exists(dir):\n",
    "        os.makedirs(dir)\n",
    "    with h5py.File(f'{dir}/{name}.hdf5', 'w') as f:\n",
    "        f.create_dataset(\"X\", data=X, chunks=True)\n",
    "        f.create_dataset(\"y\", data=y, chunks=True)\n",
    "    print(f\"Dataset {name} Saved.\")"
   ]
  },
  {
   "cell_type": "code",
   "execution_count": 9,
   "metadata": {
    "pycharm": {
     "name": "#%%\n"
    }
   },
   "outputs": [
    {
     "name": "stdout",
     "output_type": "stream",
     "text": [
      "(60533, 7, 30) (60533, 1)\n",
      "Dataset AR_train Saved.\n",
      "(18028, 7, 30) (18028, 1)\n",
      "Dataset AR_valid Saved.\n",
      "(46829, 7, 30) (46829, 1)\n",
      "Dataset BAH_train Saved.\n",
      "(13080, 7, 30) (13080, 1)\n",
      "Dataset BAH_valid Saved.\n",
      "(58857, 7, 30) (58857, 1)\n",
      "Dataset FTI_train Saved.\n",
      "(16737, 7, 30) (16737, 1)\n",
      "Dataset FTI_valid Saved.\n",
      "(29220, 7, 30) (29220, 1)\n",
      "Dataset HII_train Saved.\n",
      "(7937, 7, 30) (7937, 1)\n",
      "Dataset HII_valid Saved.\n",
      "(52782, 7, 30) (52782, 1)\n",
      "Dataset LMT_train Saved.\n",
      "(15032, 7, 30) (15032, 1)\n",
      "Dataset LMT_valid Saved.\n",
      "(25538, 7, 30) (25538, 1)\n",
      "Dataset MLI_train Saved.\n",
      "(6571, 7, 30) (6571, 1)\n",
      "Dataset MLI_valid Saved.\n",
      "(57542, 7, 30) (57542, 1)\n",
      "Dataset NFE_train Saved.\n",
      "(14528, 7, 30) (14528, 1)\n",
      "Dataset NFE_valid Saved.\n",
      "(44545, 7, 30) (44545, 1)\n",
      "Dataset NOC_train Saved.\n",
      "(12183, 7, 30) (12183, 1)\n",
      "Dataset NOC_valid Saved.\n",
      "(67865, 7, 30) (67865, 1)\n",
      "Dataset PBR_train Saved.\n",
      "(19898, 7, 30) (19898, 1)\n",
      "Dataset PBR_valid Saved.\n",
      "(71834, 7, 30) (71834, 1)\n",
      "Dataset STLD_train Saved.\n",
      "(16626, 7, 30) (16626, 1)\n",
      "Dataset STLD_valid Saved.\n"
     ]
    }
   ],
   "source": [
    "for name, dt, null in load_data(DATA_DIR):\n",
    "    if null > 0:\n",
    "        print(f\"Data {name} has NULL values. Pass.\")\n",
    "    else:\n",
    "        X, y = preprocess(dt, shuffle=SHUFFLE, seed=SEED)\n",
    "        print(X.shape, y.shape)\n",
    "        if name.endswith(\"train\"):\n",
    "            save_data(TRAIN_DIR, name, X, y)\n",
    "        elif name.endswith(\"valid\"):\n",
    "            save_data(VALID_DIR, name, X, y)"
   ]
  }
 ],
 "metadata": {
  "kernelspec": {
   "display_name": "Python 3.9.12 ('tf')",
   "language": "python",
   "name": "python3"
  },
  "language_info": {
   "codemirror_mode": {
    "name": "ipython",
    "version": 3
   },
   "file_extension": ".py",
   "mimetype": "text/x-python",
   "name": "python",
   "nbconvert_exporter": "python",
   "pygments_lexer": "ipython3",
   "version": "3.9.12"
  },
  "orig_nbformat": 4,
  "vscode": {
   "interpreter": {
    "hash": "99ea4bddf300909f6d049ff7715ecae0b1516d9d48b79ec655d91803e59750be"
   }
  }
 },
 "nbformat": 4,
 "nbformat_minor": 2
}