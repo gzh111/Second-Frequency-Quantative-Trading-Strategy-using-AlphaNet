{
 "cells": [
  {
   "cell_type": "code",
   "execution_count": 1,
   "metadata": {
    "pycharm": {
     "name": "#%%\n"
    }
   },
   "outputs": [],
   "source": [
    "import pandas as pd\n",
    "import numpy as np"
   ]
  },
  {
   "cell_type": "code",
   "execution_count": null,
   "metadata": {
    "pycharm": {
     "name": "#%%\n"
    }
   },
   "outputs": [],
   "source": [
    "def test_return(accumulated_return):\n",
    "    '''\n",
    "    input: accumulated test set return for the strategy, type:list\n",
    "    output: annual test return\n",
    "    '''\n",
    "    monthly_return = accumulated_return.pop()\n",
    "    annual_return = (1 + monthly_return)**12 - 1\n",
    "    return annual_return"
   ]
  },
  {
   "cell_type": "code",
   "execution_count": null,
   "metadata": {
    "pycharm": {
     "name": "#%%\n"
    }
   },
   "outputs": [],
   "source": [
    "def test_volatility(minute_return):\n",
    "    '''\n",
    "    input: every minute test set return for the strategy, type:list\n",
    "    output: annual test volatility\n",
    "    '''\n",
    "    test_std = np.std(minute_return)\n",
    "    annual_vola = test_std * np.sqrt(12)\n",
    "    return annual_vola"
   ]
  },
  {
   "cell_type": "code",
   "execution_count": null,
   "metadata": {
    "pycharm": {
     "name": "#%%\n"
    }
   },
   "outputs": [],
   "source": [
    "def valid_return(accumulated_return):\n",
    "    '''\n",
    "    input: accumulated validation set return for the strategy\n",
    "    output: annual validation return\n",
    "    '''\n",
    "    two_month_return = accumulated_return.pop()\n",
    "    annual_return = (1 + two_month_return)**6 - 1\n",
    "    return annual_return"
   ]
  },
  {
   "cell_type": "code",
   "execution_count": null,
   "metadata": {
    "pycharm": {
     "name": "#%%\n"
    }
   },
   "outputs": [],
   "source": [
    "def valid_volatility(minute_return):\n",
    "    '''\n",
    "    input: every minute validation set return for the strategy, type:list\n",
    "    output: annual validation volatility\n",
    "    '''\n",
    "    valid_std = np.std(minute_return)\n",
    "    annual_vola = valid_std * np.sqrt(12/2)\n",
    "    return annual_vola"
   ]
  },
  {
   "cell_type": "code",
   "execution_count": null,
   "metadata": {
    "pycharm": {
     "name": "#%%\n"
    }
   },
   "outputs": [],
   "source": [
    "def in_sample_return(accumulated_return):\n",
    "    '''\n",
    "    input: accumulated training set return for the strategy\n",
    "    output: annual in-sample return\n",
    "    '''\n",
    "    seven_month_return = accumulated_return.pop()\n",
    "    annual_return = (1 + seven_month_return)**(12/7) - 1\n",
    "    return annual_return"
   ]
  },
  {
   "cell_type": "code",
   "execution_count": null,
   "metadata": {
    "pycharm": {
     "name": "#%%\n"
    }
   },
   "outputs": [],
   "source": [
    "def in_sample_volatility(minute_return):\n",
    "    '''\n",
    "    input: every minute training set return for the strategy, type:list\n",
    "    output: annual training volatility\n",
    "    '''\n",
    "    train_std = np.std(minute_return)\n",
    "    annual_vola = train_std * np.sqrt(12/7)\n",
    "    return annual_vola"
   ]
  },
  {
   "cell_type": "code",
   "execution_count": null,
   "metadata": {
    "pycharm": {
     "name": "#%%\n"
    }
   },
   "outputs": [],
   "source": [
    "def sharpe_ratio_calc(annually_return, volatility, r_0 = 0.0395):\n",
    "    '''\n",
    "    input:the return and volatility calculated on specific dataset\n",
    "    output: sharpe ratio\n",
    "    '''\n",
    "    return (annually_return - r_0)/volatility"
   ]
  }
 ],
 "metadata": {
  "kernelspec": {
   "display_name": "Python 3",
   "language": "python",
   "name": "python3"
  },
  "language_info": {
   "codemirror_mode": {
    "name": "ipython",
    "version": 3
   },
   "file_extension": ".py",
   "mimetype": "text/x-python",
   "name": "python",
   "nbconvert_exporter": "python",
   "pygments_lexer": "ipython3",
   "version": "3.7.6"
  }
 },
 "nbformat": 4,
 "nbformat_minor": 4
}