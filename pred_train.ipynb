{
 "cells": [
  {
   "cell_type": "markdown",
   "metadata": {
    "pycharm": {
     "name": "#%% md\n"
    }
   },
   "source": [
    "# predict with fitted models"
   ]
  },
  {
   "cell_type": "code",
   "execution_count": 8,
   "metadata": {
    "pycharm": {
     "name": "#%%\n"
    }
   },
   "outputs": [],
   "source": [
    "import os\n",
    "import warnings\n",
    "import tensorflow as tf\n",
    "import numpy as np\n",
    "import pandas as pd\n",
    "import h5py\n",
    "\n",
    "warnings.filterwarnings(\"ignore\")\n",
    "\n",
    "INPUT = \"120\"\n",
    "DATA_DIR = \"train_\" + INPUT\n",
    "OUTPUT_DIR = \"pred/train\"\n",
    "MODEL_DIR = \"saved_model\""
   ]
  },
  {
   "cell_type": "code",
   "execution_count": 9,
   "metadata": {
    "pycharm": {
     "name": "#%%\n"
    }
   },
   "outputs": [],
   "source": [
    "def load_dataset(dir):\n",
    "    r\"\"\"\n",
    "    Load preprocessed datasets.\n",
    "\n",
    "    Parameters\n",
    "    ----------\n",
    "    dir: str\n",
    "        Fold contains datasets.\n",
    "    \n",
    "    Returns\n",
    "    -------\n",
    "    value: generator\n",
    "        A generator with elements like (name, X, y)\n",
    "    \"\"\"\n",
    "    \n",
    "    for file in os.listdir(dir):\n",
    "        if file.endswith(\"hdf5\"):\n",
    "            name = file.split(\"_\")[0]\n",
    "            with h5py.File(f\"{dir}/{file}\", 'r') as f:\n",
    "                X, y = f[\"X\"][...], f[\"y\"][...]\n",
    "                X[5, :] = np.log(X[5, :] + 1)\n",
    "                X[6, :] = np.log(X[6, :] + 1)\n",
    "                y = np.log(y + 1)\n",
    "                t = pd.read_csv(f\"train_valid/{file.split('.')[0]}.csv\")[\"timestamp\"]\n",
    "                t = t[-len(y):]\n",
    "            yield (name, X, y, t)\n",
    "\n",
    "def load_model(dir, name, more):\n",
    "    r\"\"\"\n",
    "    Load fitted model.\n",
    "\n",
    "    Parameters\n",
    "    ----------\n",
    "    dir: str\n",
    "        Fold contains datasets.\n",
    "    name: str\n",
    "        Name of fitted model.\n",
    "    more: str\n",
    "        More flags to find the model.\n",
    "    \n",
    "    Returns\n",
    "    -------\n",
    "    model: tf.keras.Model\n",
    "        Model with specific name.\n",
    "    \"\"\"\n",
    "    for model in os.listdir(dir):\n",
    "        if model.startswith(name+\"_\"+more):\n",
    "            return tf.keras.models.load_model(f\"{dir}/{model}\")"
   ]
  },
  {
   "cell_type": "code",
   "execution_count": 10,
   "metadata": {
    "pycharm": {
     "name": "#%%\n"
    }
   },
   "outputs": [
    {
     "name": "stdout",
     "output_type": "stream",
     "text": [
      "Testing AR...\n",
      "Testing BAH...\n",
      "Testing FTI...\n",
      "Testing HII...\n",
      "Testing LMT...\n",
      "Testing MLI...\n",
      "Testing NFE...\n",
      "Testing NOC...\n",
      "Testing PBR...\n",
      "Testing STLD...\n"
     ]
    }
   ],
   "source": [
    "res = dict()\n",
    "for name, X, y, t in load_dataset(DATA_DIR):\n",
    "    print(f\"Testing {name}...\")\n",
    "    model = load_model(MODEL_DIR, name, INPUT)\n",
    "    y_pred = model.predict(X).squeeze()\n",
    "    y_pred = np.exp(y_pred) - 1\n",
    "    res[name] = pd.DataFrame({\n",
    "        \"timestamp\": t,\n",
    "        \"Predict_return\": y_pred\n",
    "    })"
   ]
  },
  {
   "cell_type": "code",
   "execution_count": 11,
   "metadata": {
    "pycharm": {
     "name": "#%%\n"
    }
   },
   "outputs": [
    {
     "name": "stdout",
     "output_type": "stream",
     "text": [
      "All saved.\n"
     ]
    }
   ],
   "source": [
    "for name, pred in res.items():\n",
    "    pred.to_csv(f\"{OUTPUT_DIR}/{name}_pred.csv\", index=False)\n",
    "print(\"All saved.\")"
   ]
  }
 ],
 "metadata": {
  "kernelspec": {
   "display_name": "Python 3.9.12 ('tf')",
   "language": "python",
   "name": "python3"
  },
  "language_info": {
   "codemirror_mode": {
    "name": "ipython",
    "version": 3
   },
   "file_extension": ".py",
   "mimetype": "text/x-python",
   "name": "python",
   "nbconvert_exporter": "python",
   "pygments_lexer": "ipython3",
   "version": "3.9.12"
  },
  "orig_nbformat": 4,
  "vscode": {
   "interpreter": {
    "hash": "99ea4bddf300909f6d049ff7715ecae0b1516d9d48b79ec655d91803e59750be"
   }
  }
 },
 "nbformat": 4,
 "nbformat_minor": 2
}