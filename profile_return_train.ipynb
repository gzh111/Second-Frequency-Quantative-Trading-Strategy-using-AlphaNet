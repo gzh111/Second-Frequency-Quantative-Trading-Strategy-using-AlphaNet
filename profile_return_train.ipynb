{
 "cells": [
  {
   "cell_type": "code",
   "execution_count": 1,
   "metadata": {
    "pycharm": {
     "name": "#%%\n"
    }
   },
   "outputs": [],
   "source": [
    "from __future__ import division\n",
    "import pandas as pd\n",
    "import numpy as np\n",
    "import numpy as np\n",
    "from matplotlib import pyplot as plt\n",
    "from numpy.linalg import inv,pinv\n",
    "from scipy.optimize import minimize\n",
    "import sys"
   ]
  },
  {
   "cell_type": "code",
   "execution_count": 2,
   "metadata": {
    "jupyter": {
     "outputs_hidden": false
    },
    "pycharm": {
     "name": "#%%\n"
    }
   },
   "outputs": [],
   "source": [
    "TEST_DIR = 'train_valid/'\n",
    "PRED_DIR = 'pred/train/'\n",
    "csv_list=[]\n",
    "name_list=['AR_train.csv','BAH_train.csv','FTI_train.csv','HII_train.csv','LMT_train.csv','MLI_train.csv','NFE_train.csv','NOC_train.csv','PBR_train.csv','STLD_train.csv']\n",
    "for i in name_list:\n",
    "    dt = pd.read_csv(TEST_DIR+i, index_col=5).iloc[: , 1:]\n",
    "    dt = dt[~dt.index.duplicated()]\n",
    "    dt = dt['return']\n",
    "    dt.name = i[:-4]\n",
    "    csv_list.append(dt)\n",
    "\n",
    "#all the test data\n",
    "result = pd.concat(csv_list, axis=1)\n",
    "result= result.dropna(axis=0,how='any')"
   ]
  },
  {
   "cell_type": "code",
   "execution_count": 3,
   "metadata": {
    "jupyter": {
     "outputs_hidden": false
    },
    "pycharm": {
     "name": "#%%\n"
    }
   },
   "outputs": [],
   "source": [
    "csv_pred_list=[]\n",
    "name_pred_list=['AR_pred.csv','BAH_pred.csv','FTI_pred.csv','HII_pred.csv','LMT_pred.csv','MLI_pred.csv','NFE_pred.csv','NOC_pred.csv','PBR_pred.csv','STLD_pred.csv',]\n",
    "for i in name_pred_list:\n",
    "    dt_pred = pd.read_csv(PRED_DIR+i, index_col=0)\n",
    "    dt_pred = dt_pred['Predict_return']\n",
    "    dt_pred = dt_pred[~dt_pred.index.duplicated()]\n",
    "    dt_pred.name = i[:-4]\n",
    "    csv_pred_list.append(dt_pred)\n",
    "\n",
    "result_pred = pd.concat(csv_pred_list, axis=1)\n",
    "result_pred= result_pred.dropna(axis=0,how='any')"
   ]
  },
  {
   "cell_type": "code",
   "execution_count": 4,
   "metadata": {
    "jupyter": {
     "outputs_hidden": false
    },
    "pycharm": {
     "name": "#%%\n"
    }
   },
   "outputs": [],
   "source": [
    "#some are nan because the first 120min are used to predict or missing data\n",
    "align_df = pd.concat([result,result_pred], axis=1).reset_index(drop=True)\n",
    "df_test = align_df.dropna(axis=0,how='any').iloc[:,:10]\n",
    "df_pred_test = align_df.dropna(axis=0,how='any').iloc[:,10:]\n",
    "result = align_df.iloc[:,:10]\n",
    "result_pred= align_df.iloc[:,10:]"
   ]
  },
  {
   "cell_type": "markdown",
   "metadata": {
    "pycharm": {
     "name": "#%% md\n"
    }
   },
   "source": [
    "## Sharpe Ratio-Squared-weighted risk contributions portfolio(with covariance)"
   ]
  },
  {
   "cell_type": "code",
   "execution_count": 5,
   "metadata": {
    "jupyter": {
     "outputs_hidden": false
    },
    "pycharm": {
     "name": "#%%\n"
    }
   },
   "outputs": [],
   "source": [
    "# risk budgeting optimization\n",
    "def calculate_portfolio_var(w,V):\n",
    "    # function that calculates portfolio risk\n",
    "    w = np.matrix(w)\n",
    "    return (w*V*w.T)[0,0]\n",
    "\n",
    "def calculate_risk_contribution(w,V):\n",
    "    # function that calculates asset contribution to total risk\n",
    "    w = np.matrix(w)\n",
    "    sigma = np.sqrt(calculate_portfolio_var(w,V))\n",
    "    # Marginal Risk Contribution\n",
    "    MRC = V*w.T\n",
    "    # Risk Contribution\n",
    "    RC = np.multiply(MRC,w.T)/sigma\n",
    "    return RC\n",
    "\n",
    "def risk_budget_objective(x,pars):\n",
    "    # calculate portfolio risk\n",
    "    V = pars[0]\n",
    "    x_t = pars[1]\n",
    "    sig_p =  np.sqrt(calculate_portfolio_var(x,V)) # portfolio sigma\n",
    "    risk_target = np.asmatrix(np.multiply(sig_p,x_t))\n",
    "    asset_RC = calculate_risk_contribution(x,V)\n",
    "    J = sum(np.square(asset_RC-risk_target.T))[0,0] # sum of squared error\n",
    "    return J\n",
    "\n",
    "def total_weight_constraint(x):\n",
    "    return np.sum(x)-1.0\n",
    "\n",
    "def risk_alloc_adjust(V, r, r_0 = 4.019129019129019e-07):\n",
    "    r_0_list = np.array([ r_0 for i in range(len(r))])\n",
    "    std = np.sqrt(np.diagonal(V))\n",
    "    denom = np.sum(((r - r_0_list)/std)**2)\n",
    "#     print(denom)\n",
    "    x_t = ((r - r_0_list)/std)/denom\n",
    "    return x_t\n"
   ]
  },
  {
   "cell_type": "code",
   "execution_count": 6,
   "metadata": {
    "jupyter": {
     "outputs_hidden": false
    },
    "pycharm": {
     "name": "#%%\n"
    }
   },
   "outputs": [],
   "source": [
    "def profile_return_with_different_num_alphanet(choose_n, df_pred_test, result, df_test):\n",
    "    \"\"\"\n",
    "    the return of profile\n",
    "    :param choose_n: the number of stack chosen\n",
    "    :param df_pred_test: the predicted return of alpha net in test set\n",
    "    :param result: all the test set\n",
    "    :param df_test: the true return of alpha net in test set\n",
    "    :return:\n",
    "    \"\"\"\n",
    "    weight = 1/choose_n\n",
    "    res_all=[]\n",
    "    res_all_stock_name=[]\n",
    "    for j in range(df_pred_test.shape[0]):\n",
    "        top_n = df_pred_test.iloc[[j]]\n",
    "        top_n = top_n.iloc[0].nlargest(choose_n).to_frame().T\n",
    "        list_pred_keep=list(top_n.columns)\n",
    "        list_real_keep=[]\n",
    "        for i in list_pred_keep:\n",
    "            list_real_keep.append(i[:-4]+'train')\n",
    "        res_all_stock_name.append(list_real_keep)\n",
    "#         print(list_real_keep)\n",
    "        df_real = result[result.columns[result.columns.isin(list_real_keep)]]\n",
    "#         print(df_real)\n",
    "        df_pred = df_pred_test[df_pred_test.columns[df_pred_test.columns.isin(list_pred_keep)]]\n",
    "        #print(df_pred)\n",
    "        cov_index = df_pred_test.iloc[[j],:].index[0]\n",
    "        df=df_real.iloc[max(cov_index-120,0):cov_index]\n",
    "        V= df.cov()\n",
    "#         print(V)\n",
    "        V = np.matrix(V)\n",
    "        r = df_pred.iloc[j]\n",
    "        r = np.stack(r.values)\n",
    "        # initialization\n",
    "        w0 = [weight]*choose_n\n",
    "        # risk budget percent of total portofolio risk\n",
    "        x_t = risk_alloc_adjust(V, r, r_0 = 4.019129019129019e-07)\n",
    "        cons = ({'type': 'eq', 'fun': total_weight_constraint})\n",
    "        res= minimize(risk_budget_objective, w0, args=[V,x_t], method='SLSQP',constraints=cons, tol=1e-15, options={'disp': False})\n",
    "        flag=0\n",
    "        res_zero=[0]*choose_n\n",
    "        for i in df_pred.iloc[j]:\n",
    "            if i>0:\n",
    "                flag=1\n",
    "        if flag==1:\n",
    "            res_all.append(res.x)\n",
    "        else:\n",
    "            res_all.append(res_zero)\n",
    "\n",
    "    res_sum=[1]\n",
    "    res_ratio=[]\n",
    "    for i in range(len(res_all)):\n",
    "        r = np.sum(df_test[res_all_stock_name[i]].iloc[i]*res_all[i])\n",
    "        res_ratio.append(r)\n",
    "        res_sum.append(res_sum[-1]*(1+r))\n",
    "\n",
    "    return choose_n, res_sum, res_ratio"
   ]
  },
  {
   "cell_type": "code",
   "execution_count": 7,
   "metadata": {
    "jupyter": {
     "outputs_hidden": false
    },
    "pycharm": {
     "name": "#%%\n"
    }
   },
   "outputs": [
    {
     "name": "stdout",
     "output_type": "stream",
     "text": [
      "10 stocks situation is processing\n"
     ]
    }
   ],
   "source": [
    "#from the result of validation set, we choose 5 stocks.\n",
    "res_num=[]\n",
    "for i in range(10,11):\n",
    "    print(f\"{i} stocks situation is processing\")\n",
    "    res_num.append(profile_return_with_different_num_alphanet(i, df_pred_test, result, df_test))"
   ]
  },
  {
   "cell_type": "code",
   "execution_count": 8,
   "metadata": {
    "pycharm": {
     "name": "#%%\n"
    }
   },
   "outputs": [],
   "source": [
    "res_ratio=[]\n",
    "for i in range(len(res_num)):\n",
    "    list_res=res_num[i][2]\n",
    "    res_ratio.append(list_res)"
   ]
  },
  {
   "cell_type": "code",
   "execution_count": 10,
   "metadata": {
    "jupyter": {
     "outputs_hidden": false
    },
    "pycharm": {
     "name": "#%%\n"
    }
   },
   "outputs": [
    {
     "data": {
      "text/plain": "<matplotlib.legend.Legend at 0x1a3a1c16ee0>"
     },
     "execution_count": 10,
     "metadata": {},
     "output_type": "execute_result"
    },
    {
     "data": {
      "text/plain": "<Figure size 640x480 with 1 Axes>",
      "image/png": "[encoded data removed]"
     },
     "metadata": {},
     "output_type": "display_data"
    }
   ],
   "source": [
    "x = range(len(res_num[0][1]))\n",
    "colorlist=plt.cm.cool(np.linspace(0,1,len(res_num)))\n",
    "for i in range(len(res_num)):\n",
    "    plt.plot(x,np.array(res_num[i][1])-1,color=colorlist[i],label = res_num[i][0])\n",
    "plt.title('cumulative return')\n",
    "plt.xlabel(\"timestamp of training set\")\n",
    "plt.ylabel(\"return\")\n",
    "plt.legend()"
   ]
  },
  {
   "cell_type": "code",
   "execution_count": 11,
   "metadata": {
    "pycharm": {
     "name": "#%%\n"
    }
   },
   "outputs": [
    {
     "data": {
      "text/plain": "<matplotlib.legend.Legend at 0x1a3a207ef10>"
     },
     "execution_count": 11,
     "metadata": {},
     "output_type": "execute_result"
    },
    {
     "data": {
      "text/plain": "<Figure size 640x480 with 1 Axes>",
      "image/png": "[encoded data removed]"
     },
     "metadata": {},
     "output_type": "display_data"
    }
   ],
   "source": [
    "x = range(len(res_ratio[0]))\n",
    "colorlist=plt.cm.cool(np.linspace(0,1,len(res_ratio)))\n",
    "for i in range(len(res_ratio)):\n",
    "    plt.plot(x,res_ratio[i],color=colorlist[i],label = res_num[i][0])\n",
    "plt.title('return')\n",
    "plt.legend()"
   ]
  },
  {
   "cell_type": "markdown",
   "source": [
    "# calculating metrics"
   ],
   "metadata": {
    "collapsed": false,
    "pycharm": {
     "name": "#%% md\n"
    }
   }
  },
  {
   "cell_type": "markdown",
   "source": [
    "from the result of validation set, we choose 10 stocks."
   ],
   "metadata": {
    "collapsed": false,
    "pycharm": {
     "name": "#%% md\n"
    }
   }
  },
  {
   "cell_type": "code",
   "execution_count": 12,
   "metadata": {
    "pycharm": {
     "name": "#%%\n"
    }
   },
   "outputs": [],
   "source": [
    "def train_return(accumulated_return):\n",
    "    '''\n",
    "    input: accumulated training set return for the strategy\n",
    "    output: annual in-sample return\n",
    "    '''\n",
    "    month_return = accumulated_return.pop()\n",
    "    annual_return = month_return**(12/7) - 1\n",
    "    return annual_return"
   ]
  },
  {
   "cell_type": "code",
   "execution_count": 13,
   "metadata": {
    "pycharm": {
     "name": "#%%\n"
    }
   },
   "outputs": [],
   "source": [
    "def train_volatility(return_rate,frequency):\n",
    "    '''\n",
    "    frequency: the trading minute per day we get\n",
    "    input: every minute training set return for the strategy, type:list\n",
    "    output: annual training volatility\n",
    "    '''\n",
    "    annual_vola = np.std(return_rate) * np.sqrt(frequency*252)\n",
    "    return annual_vola"
   ]
  },
  {
   "cell_type": "code",
   "execution_count": 14,
   "metadata": {
    "pycharm": {
     "name": "#%%\n"
    }
   },
   "outputs": [
    {
     "data": {
      "text/plain": "0.003903291494873562"
     },
     "execution_count": 14,
     "metadata": {},
     "output_type": "execute_result"
    }
   ],
   "source": [
    "train_return(res_num[-1][1])"
   ]
  },
  {
   "cell_type": "code",
   "execution_count": 15,
   "metadata": {
    "pycharm": {
     "name": "#%%\n"
    }
   },
   "outputs": [
    {
     "data": {
      "text/plain": "0.23836514841350182"
     },
     "execution_count": 15,
     "metadata": {},
     "output_type": "execute_result"
    }
   ],
   "source": [
    "#when calculating the volatility, which could be influenced by record frequency dramatically,\n",
    "#so we use the estimated daily return to estimate\n",
    "#trading day: 20*7\n",
    "frequency = int(len(df_pred_test)/140)\n",
    "train_volatility(res_num[-1][2],frequency)"
   ]
  },
  {
   "cell_type": "code",
   "execution_count": 16,
   "metadata": {
    "pycharm": {
     "name": "#%%\n"
    }
   },
   "outputs": [
    {
     "data": {
      "text/plain": "-0.1554827571006287"
     },
     "execution_count": 16,
     "metadata": {},
     "output_type": "execute_result"
    }
   ],
   "source": [
    "#sharp ratio\n",
    "#0.0395 is the risk-free rate\n",
    "(train_return(res_num[-1][1])-0.0395)/train_volatility(res_num[-1][2],frequency)"
   ]
  }
 ],
 "metadata": {
  "kernelspec": {
   "display_name": "Python 3",
   "language": "python",
   "name": "python3"
  },
  "language_info": {
   "codemirror_mode": {
    "name": "ipython",
    "version": 3
   },
   "file_extension": ".py",
   "mimetype": "text/x-python",
   "name": "python",
   "nbconvert_exporter": "python",
   "pygments_lexer": "ipython3",
   "version": "3.7.6"
  }
 },
 "nbformat": 4,
 "nbformat_minor": 5
}